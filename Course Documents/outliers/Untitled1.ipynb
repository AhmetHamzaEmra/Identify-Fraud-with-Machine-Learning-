{
 "cells": [
  {
   "cell_type": "code",
   "execution_count": 1,
   "metadata": {
    "collapsed": true
   },
   "outputs": [],
   "source": [
    "# %load outlier_cleaner.py\n",
    "#!/usr/bin/python\n",
    "\n",
    "\n",
    "def outlierCleaner(predictions, ages, net_worths):\n",
    "    \"\"\"\n",
    "        Clean away the 10% of points that have the largest\n",
    "        residual errors (difference between the prediction\n",
    "        and the actual net worth).\n",
    "\n",
    "        Return a list of tuples named cleaned_data where \n",
    "        each tuple is of the form (age, net_worth, error).\n",
    "    \"\"\"\n",
    "    \n",
    "    cleaned_data = []\n",
    "    farklar=[]\n",
    "    ### your code goes here\n",
    "    for i in range(len(predictions)):\n",
    "        fark[i]=abs(predictions[i]-net_worths[i])\n",
    "    i=0\n",
    "    while i> len(fark)//10:\n",
    "        max=-1\n",
    "        for j in range(len(fark)):\n",
    "            if fark[j]>fark[max]:\n",
    "                max=j\n",
    "        \n",
    "        predictions.remove(predictions[max])\n",
    "        ages.remove(ages[max])\n",
    "        net_worths.remove(net_worths[max])\n",
    "        fark.remove(fark[max])\n",
    "        \n",
    "    \n",
    "    cleaned_data.append()\n",
    "    \n",
    "    return cleaned_data\n",
    "\n"
   ]
  },
  {
   "cell_type": "code",
   "execution_count": null,
   "metadata": {
    "collapsed": true
   },
   "outputs": [],
   "source": [
    "import pickle\n",
    "import sys\n",
    "import matplotlib.pyplot as plt\n",
    "sys.path.append(\"../tools/\")\n",
    "from feature_format import featureFormat, targetFeatureSplit\n",
    "\n",
    "data_dict = pickle.load( open(\"../final_project/final_project_dataset.pkl\", \"r\") )\n",
    "features = [\"salary\", \"bonus\"]\n",
    "data = featureFormat(data_dict, features)\n",
    "for point in data:\n",
    "salary=point[0]\n",
    "bonus=point[1]\n",
    "plt.scatter(salary, bonus)\n",
    "plt.xlabel(\"Salary\")\n",
    "plt.ylabel(\"Bonus\")\n",
    "plt.show()\n",
    "\n",
    "your code below\n",
    "\n",
    "error=[]\n",
    "for point in data:\n",
    "err=point[1]\n",
    "error.append(err)\n",
    "error.sort()\n",
    "print error[94]\n",
    "for key in data_dict:\n",
    "if (data_dict[key][\"bonus\"]==error[94]):\n",
    "print key"
   ]
  }
 ],
 "metadata": {
  "anaconda-cloud": {},
  "kernelspec": {
   "display_name": "Python [conda root]",
   "language": "python",
   "name": "conda-root-py"
  },
  "language_info": {
   "codemirror_mode": {
    "name": "ipython",
    "version": 2
   },
   "file_extension": ".py",
   "mimetype": "text/x-python",
   "name": "python",
   "nbconvert_exporter": "python",
   "pygments_lexer": "ipython2",
   "version": "2.7.12"
  }
 },
 "nbformat": 4,
 "nbformat_minor": 1
}
