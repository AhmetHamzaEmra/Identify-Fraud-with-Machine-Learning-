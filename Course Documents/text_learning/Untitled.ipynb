{
 "cells": [
  {
   "cell_type": "code",
   "execution_count": 6,
   "metadata": {
    "collapsed": false
   },
   "outputs": [
    {
     "name": "stdout",
     "output_type": "stream",
     "text": [
      "emails processed\n",
      " tjonesnsf\n",
      "\n",
      "stephani and sam need nymex calendar\n"
     ]
    }
   ],
   "source": [
    "    #!/usr/bin/python\n",
    "\n",
    "    import os\n",
    "    import pickle\n",
    "    import re\n",
    "    import sys\n",
    "\n",
    "    sys.path.append( \"../tools/\" )\n",
    "    from parse_out_email_text import parseOutText\n",
    "\n",
    "    from_sara  = open(\"from_sara.txt\", \"r\")\n",
    "    from_chris = open(\"from_chris.txt\", \"r\")\n",
    "\n",
    "    from_data = []\n",
    "    word_data = []\n",
    "\n",
    "    temp_counter = 0\n",
    "\n",
    "    lookout = [\"sara\", \"shackleton\", \"chris\", \"germani\"]\n",
    "\n",
    "    for name, from_person in [(\"sara\", from_sara), (\"chris\", from_chris)]:\n",
    "        for path in from_person:\n",
    "            temp_counter += 1\n",
    "            if temp_counter >= 0:\n",
    "                path = os.path.join('..', path[:-1])\n",
    "                email = open(path, \"r\")\n",
    "\n",
    "                text = parseOutText(email)\n",
    "                \n",
    "                for to_delete in lookout:\n",
    "                    if to_delete in text:\n",
    "                        \n",
    "                        text = text.replace(to_delete, \"\")\n",
    "                        \n",
    "                word_data.append(text)\n",
    "                \n",
    "                if from_person==\"chris\":\n",
    "                    from_data.append(1)\n",
    "                elif from_person==\"sara\":\n",
    "                    from_data.append(0)\n",
    "\n",
    "                email.close()\n",
    "                \n",
    "    print \"emails processed\"\n",
    "    from_sara.close()\n",
    "    from_chris.close()\n",
    "\n",
    "    pickle.dump( word_data, open(\"your_word_data.pkl\", \"w\") )\n",
    "    pickle.dump( from_data, open(\"your_email_authors.pkl\", \"w\") )\n",
    "\n",
    "\n",
    "    print word_data[152]\n",
    "    "
   ]
  },
  {
   "cell_type": "code",
   "execution_count": 12,
   "metadata": {
    "collapsed": false
   },
   "outputs": [
    {
     "name": "stdout",
     "output_type": "stream",
     "text": [
      "[u' sbaile2 nonprivilegedpst\\n\\nsusan\\n\\npleas send the forego list to richard  thanks\\n\\n \\nenron wholesal services\\n1400 smith street eb3801a\\nhouston tx  77002\\nph  713 8535620\\nfax 713 6463490']\n"
     ]
    }
   ],
   "source": [
    "print word_data[:1]"
   ]
  },
  {
   "cell_type": "code",
   "execution_count": 7,
   "metadata": {
    "collapsed": false
   },
   "outputs": [
    {
     "name": "stdout",
     "output_type": "stream",
     "text": [
      "42285\n",
      "repswarranti\n"
     ]
    }
   ],
   "source": [
    "\n",
    "from sklearn.feature_extraction.text import TfidfVectorizer\n",
    "\n",
    "vectorizer = TfidfVectorizer(stop_words = 'english')\n",
    "features_test = vectorizer.fit_transform(word_data)\n",
    "\n",
    "print len(vectorizer.get_feature_names())\n",
    "\n",
    "print vectorizer.get_feature_names()[34597]"
   ]
  },
  {
   "cell_type": "code",
   "execution_count": 13,
   "metadata": {
    "collapsed": false
   },
   "outputs": [
    {
     "data": {
      "text/plain": [
       "u' sbaile2 nonprivilegedpst\\n\\n1\\ttxu energi trade company\\t\\n\\n2\\tbp capit energi fund lp  may be subject to mutual termination\\n\\n2\\tnobl gas market inc\\n\\n3\\tpuget sound energi inc\\n\\n4\\tvirginia power energi market inc\\n\\n5\\tt boon picken  may be subject to mutual termin \\n\\n5\\tneumin product co\\n\\n6\\tsodra skogsagarna ek for  probabl an ectric counterparty\\n\\n6\\ttexaco natur gas inc  may be book incorrect for texaco inc financi trades\\n\\n7\\tac capit re oversea ltd\\n\\n8\\tnevada power company\\n\\n9\\tprior energi corporation\\n\\n10\\tselect energi inc\\t\\n\\n origin message\\nfrom \\ttweed sheila  \\nsent\\tthursday januari 31 2002 310 pm\\nto\\t \\nsubject\\t\\n\\npleas send me the name of the 10 counterparti that we are evalu  thank'"
      ]
     },
     "execution_count": 13,
     "metadata": {},
     "output_type": "execute_result"
    }
   ],
   "source": [
    "word_data[1]"
   ]
  },
  {
   "cell_type": "code",
   "execution_count": null,
   "metadata": {
    "collapsed": true
   },
   "outputs": [],
   "source": []
  }
 ],
 "metadata": {
  "anaconda-cloud": {},
  "kernelspec": {
   "display_name": "Python [conda root]",
   "language": "python",
   "name": "conda-root-py"
  },
  "language_info": {
   "codemirror_mode": {
    "name": "ipython",
    "version": 2
   },
   "file_extension": ".py",
   "mimetype": "text/x-python",
   "name": "python",
   "nbconvert_exporter": "python",
   "pygments_lexer": "ipython2",
   "version": "2.7.12"
  }
 },
 "nbformat": 4,
 "nbformat_minor": 1
}
