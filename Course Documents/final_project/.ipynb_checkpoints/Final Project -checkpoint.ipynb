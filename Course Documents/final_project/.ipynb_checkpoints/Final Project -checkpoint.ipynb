{
 "cells": [
  {
   "cell_type": "code",
   "execution_count": 1,
   "metadata": {
    "collapsed": false
   },
   "outputs": [
    {
     "name": "stderr",
     "output_type": "stream",
     "text": [
      "C:\\Users\\aemra\\AppData\\Local\\Continuum\\Anaconda2\\lib\\site-packages\\sklearn\\cross_validation.py:44: DeprecationWarning: This module was deprecated in version 0.18 in favor of the model_selection module into which all the refactored classes and functions are moved. Also note that the interface of the new CV iterators are different from that of this module. This module will be removed in 0.20.\n",
      "  \"This module will be removed in 0.20.\", DeprecationWarning)\n",
      "C:\\Users\\aemra\\AppData\\Local\\Continuum\\Anaconda2\\lib\\site-packages\\sklearn\\grid_search.py:43: DeprecationWarning: This module was deprecated in version 0.18 in favor of the model_selection module into which all the refactored classes and functions are moved. This module will be removed in 0.20.\n",
      "  DeprecationWarning)\n"
     ]
    }
   ],
   "source": [
    "#!/usr/bin/python\n",
    "import os\n",
    "import sys\n",
    "import pickle\n",
    "import random\n",
    "import matplotlib\n",
    "from matplotlib import pyplot\n",
    "sys.path.append(\"../tools/\")\n",
    "\n",
    "from numpy import mean\n",
    "from feature_format import featureFormat, targetFeatureSplit\n",
    "from tester import dump_classifier_and_data\n",
    "from sklearn.feature_selection import SelectKBest\n",
    "from sklearn.feature_selection import SelectPercentile, f_classif\n",
    "from sklearn.preprocessing import MinMaxScaler\n",
    "from sklearn.cross_validation import train_test_split\n",
    "from sklearn.metrics import accuracy_score, precision_score, recall_score\n",
    "from sklearn import tree\n",
    "from sklearn.grid_search import GridSearchCV\n",
    "\n",
    "\n"
   ]
  },
  {
   "cell_type": "code",
   "execution_count": 2,
   "metadata": {
    "collapsed": false
   },
   "outputs": [
    {
     "name": "stdout",
     "output_type": "stream",
     "text": [
      "Data points:  146\n",
      "Features:  21\n",
      "POIs:  18\n"
     ]
    }
   ],
   "source": [
    "### Task 1: Select what features you'll use.\n",
    "### features_list is a list of strings, each of which is a feature name.\n",
    "### The first feature must be \"poi\".\n",
    "features_list = ['poi'] # You will need to use more features\n",
    "os.chdir(\"C:\\\\Users\\\\aemra\\\\Documents\\\\GitHub\\\\enron_mail_20110402\\\\final_project\")\n",
    "### Load the dictionary containing the dataset\n",
    "data_dict = pickle.load(open(\"final_project_dataset.pkl\", \"r\") )\n",
    "\n",
    "### Task 2: Remove outliers\n",
    "\n",
    "### EXPLORATION\n",
    "\n",
    "num_data_points = len(data_dict)\n",
    "num_data_features = len(data_dict[data_dict.keys()[0]])\n",
    "\n",
    "num_poi = 0\n",
    "for dic in data_dict.values():\n",
    "\tif dic['poi'] == 1: num_poi += 1\n",
    "\n",
    "print \"Data points: \", num_data_points\n",
    "print \"Features: \", num_data_features\n",
    "print \"POIs: \", num_poi\n",
    "\n"
   ]
  },
  {
   "cell_type": "code",
   "execution_count": 3,
   "metadata": {
    "collapsed": false
   },
   "outputs": [
    {
     "data": {
      "image/png": "[encoded data removed]",
      "text/plain": [
       "<matplotlib.figure.Figure at 0x9bbd710>"
      ]
     },
     "metadata": {},
     "output_type": "display_data"
    }
   ],
   "source": [
    "\n",
    "#\n",
    "#\n",
    "#\n",
    "# are there features with many missing values? etc.\n",
    "#\n",
    "#\n",
    "#\n",
    "for dic in data_dict.values():\n",
    "     matplotlib.pyplot.scatter( dic['salary'] , dic['bonus']  )\n",
    "matplotlib.pyplot.xlabel(\"salary\")\n",
    "matplotlib.pyplot.ylabel(\"bonus\")\n",
    "matplotlib.pyplot.show()\n",
    "\n",
    "# there is an extreme outlier\n",
    "\n",
    "# for k, v in data_dict.items():\n",
    "#     if v['salary'] != 'NaN' and v['salary'] > 10000000: print k\n",
    "\n",
    "# turns out to be the TOTAL row from the salaries & bonuses list, let's remove it\n",
    "\n",
    "del data_dict[\"TOTAL\"]\n",
    "\n",
    "### Task 3: Create new feature(s)\n",
    "### Store to my_dataset for easy export below.\n",
    "my_dataset = data_dict\n",
    "\n"
   ]
  },
  {
   "cell_type": "code",
   "execution_count": 4,
   "metadata": {
    "collapsed": false
   },
   "outputs": [
    {
     "data": {
      "image/png": "[encoded data removed]",
      "text/plain": [
       "<matplotlib.figure.Figure at 0x9bbd630>"
      ]
     },
     "metadata": {},
     "output_type": "display_data"
    }
   ],
   "source": [
    "for dic in data_dict.values():\n",
    "     matplotlib.pyplot.scatter( dic['salary'] , dic['bonus']  )\n",
    "matplotlib.pyplot.xlabel(\"salary\")\n",
    "matplotlib.pyplot.ylabel(\"bonus\")\n",
    "matplotlib.pyplot.show()"
   ]
  },
  {
   "cell_type": "code",
   "execution_count": 5,
   "metadata": {
    "collapsed": false
   },
   "outputs": [
    {
     "name": "stdout",
     "output_type": "stream",
     "text": [
      "Intuitive features: ['poi', 'fraction_from_poi', 'fraction_to_poi', 'shared_receipt_with_poi', 'expenses', 'loan_advances', 'long_term_incentive', 'other', 'restricted_stock', 'restricted_stock_deferred', 'deferral_payments', 'deferred_income', 'salary', 'total_stock_value', 'exercised_stock_options', 'total_payments', 'bonus', 'wealth']\n"
     ]
    }
   ],
   "source": [
    "## Custom aggregate features\n",
    "## Communication:\n",
    "for item in my_dataset:\n",
    "    person = my_dataset[item]\n",
    "    if (all([person['from_poi_to_this_person'] != 'NaN',\n",
    "                person['from_this_person_to_poi'] != 'NaN',\n",
    "                person['to_messages'] != 'NaN',\n",
    "                person['from_messages'] != 'NaN'\n",
    "            ])):\n",
    "        fraction_from_poi = float(person[\"from_poi_to_this_person\"]) / float(person[\"to_messages\"])\n",
    "        person[\"fraction_from_poi\"] = fraction_from_poi\n",
    "        fraction_to_poi = float(person[\"from_this_person_to_poi\"]) / float(person[\"from_messages\"])\n",
    "        person[\"fraction_to_poi\"] = fraction_to_poi\n",
    "    else:\n",
    "        person[\"fraction_from_poi\"] = person[\"fraction_to_poi\"] = 0\n",
    "\n",
    "## Financial:\n",
    "for item in my_dataset:\n",
    "    person = my_dataset[item]\n",
    "    if (all([person['salary'] != 'NaN',\n",
    "                person['total_stock_value'] != 'NaN',\n",
    "                person['exercised_stock_options'] != 'NaN',\n",
    "                person['bonus'] != 'NaN'\n",
    "            ])):\n",
    "        person['wealth'] = sum([person[field] for field in ['salary',\n",
    "                                                           'total_stock_value',\n",
    "                                                              'exercised_stock_options',\n",
    "                                                              'bonus']])\n",
    "    else:\n",
    "        person['wealth'] = 'NaN'\n",
    "\n",
    "my_features = features_list + ['fraction_from_poi',\n",
    "                               'fraction_to_poi',\n",
    "                                 'shared_receipt_with_poi',\n",
    "                                 'expenses',\n",
    "                                 'loan_advances',\n",
    "                                 'long_term_incentive',\n",
    "                                 'other',\n",
    "                                 'restricted_stock',\n",
    "                                 'restricted_stock_deferred',\n",
    "                                 'deferral_payments',\n",
    "                                 'deferred_income',\n",
    "                                 'salary',\n",
    "                                 'total_stock_value',\n",
    "                                 'exercised_stock_options',\n",
    "                                 'total_payments',\n",
    "                                 'bonus',\n",
    "                                 'wealth']\n",
    "\n",
    "### Extract features and labels from dataset for local testing\n",
    "data = featureFormat(my_dataset, my_features, sort_keys = True)\n",
    "labels, features = targetFeatureSplit(data)\n",
    "\n",
    "print \"Intuitive features:\", my_features\n"
   ]
  },
  {
   "cell_type": "code",
   "execution_count": 6,
   "metadata": {
    "collapsed": false
   },
   "outputs": [
    {
     "name": "stdout",
     "output_type": "stream",
     "text": [
      "K-best features: [(True, 'exercised_stock_options', 25.097541528735491), (True, 'total_stock_value', 24.467654047526391), (True, 'bonus', 21.060001707536578), (True, 'salary', 18.575703268041778), (True, 'fraction_to_poi', 16.641707070468989), (False, 'wealth', 15.554588511146994), (False, 'deferred_income', 11.595547659732164), (False, 'long_term_incentive', 10.072454529369448), (False, 'restricted_stock', 9.3467007910514379), (False, 'total_payments', 8.8667215371077805), (False, 'shared_receipt_with_poi', 8.7464855321290802), (False, 'loan_advances', 7.2427303965360172), (False, 'expenses', 6.234201140506757), (False, 'other', 4.2049708583014187), (False, 'fraction_from_poi', 3.2107619169667667), (False, 'deferral_payments', 0.21705893033950563), (False, 'restricted_stock_deferred', 0.064984311723709831)]\n"
     ]
    }
   ],
   "source": [
    "\n",
    "# Scale features\n",
    "scaler = MinMaxScaler()\n",
    "features = scaler.fit_transform(features)\n",
    "\n",
    "# K-best features\n",
    "k_best = SelectKBest(k=5)\n",
    "k_best.fit(features, labels)\n",
    "\n",
    "results_list = zip(k_best.get_support(), my_features[1:], k_best.scores_)\n",
    "results_list = sorted(results_list, key=lambda x: x[2], reverse=True)\n",
    "print \"K-best features:\", results_list\n",
    "\n",
    "## 5 best features chosen by SelectKBest\n",
    "my_features = features_list + ['exercised_stock_options',\n",
    "                               'total_stock_value',\n",
    "                                 'bonus',\n",
    "                                'salary',\n",
    "                                 'fraction_to_poi']\n",
    "\n",
    "data = featureFormat(my_dataset, my_features, sort_keys = True)\n",
    "labels, features = targetFeatureSplit(data)\n",
    "\n"
   ]
  },
  {
   "cell_type": "code",
   "execution_count": 7,
   "metadata": {
    "collapsed": true
   },
   "outputs": [],
   "source": [
    "### Task 4: Try a varity of classifiers\n",
    "### Please name your classifier clf for easy export below.\n",
    "### Note that if you want to do PCA or other multi-stage operations,\n",
    "### you'll need to use Pipelines. For more info:\n",
    "### http://scikit-learn.org/stable/modules/pipeline.html\n",
    "\n",
    "def test_clf(grid_search, features, labels, parameters, iterations=100):\n",
    "    precision, recall = [], []\n",
    "    for iteration in range(iterations):\n",
    "        features_train, features_test, labels_train, labels_test = train_test_split(features, labels, random_state=42)\n",
    "        grid_search.fit(features_train, labels_train)\n",
    "        predictions = grid_search.predict(features_test)\n",
    "        precision = precision + [precision_score(labels_test, predictions)]\n",
    "        recall = recall + [recall_score(labels_test, predictions)]\n",
    "        if iteration % 10 == 0:\n",
    "            sys.stdout.write('.')\n",
    "    print '\\nPrecision:', mean(precision)\n",
    "    print 'Recall:', mean(recall)\n",
    "    best_params = grid_search.best_estimator_.get_params()\n",
    "    for param_name in sorted(parameters.keys()):\n",
    "        print '%s=%r, ' % (param_name, best_params[param_name])\n"
   ]
  },
  {
   "cell_type": "code",
   "execution_count": null,
   "metadata": {
    "collapsed": false
   },
   "outputs": [],
   "source": [
    "\"\"\"\n",
    "from sklearn.naive_bayes import GaussianNB\n",
    "clf = GaussianNB()\n",
    "parameters = {}\n",
    "grid_search = GridSearchCV(clf, parameters)\n",
    "print '\\nGaussianNB:'\n",
    "test_clf(grid_search, features, labels, parameters)\n",
    "\n",
    "from sklearn import tree\n",
    "clf = tree.DecisionTreeClassifier()\n",
    " #param grid from http://chrisstrelioff.ws/sandbox/2015/06/25/decision_trees_in_python_again_cross_validation.html\n",
    "parameters = {'criterion': ['gini', 'entropy'],\n",
    "               'min_samples_split': [2, 10, 20],\n",
    "               'max_depth': [None, 2, 5, 10],\n",
    "               'min_samples_leaf': [1, 5, 10],\n",
    "               'max_leaf_nodes': [None, 5, 10, 20]}\n",
    "grid_search = GridSearchCV(clf, parameters)\n",
    "print '\\nDecisionTree:'\n",
    "test_clf(grid_search, features, labels, parameters)\n",
    "\n",
    "from sklearn.ensemble import AdaBoostClassifier\n",
    "clf = AdaBoostClassifier()\n",
    "parameters = {'n_estimators': [10, 20, 30, 40, 50],\n",
    "              'algorithm': ['SAMME', 'SAMME.R'],\n",
    "              'learning_rate': [.5,.8, 1, 1.2, 1.5]}\n",
    "grid_search = GridSearchCV(clf, parameters)\n",
    "print '\\nAdaBoost:'\n",
    "test_clf(grid_search, features, labels, parameters)\n",
    "\n",
    "# GaussianNB:\n",
    "# Precision: 0.388484126984\n",
    "# Recall: 0.282984126984\n",
    "\n",
    "# DecisionTree:\n",
    "# Precision: 0.165993506494\n",
    "# Recall: 0.215702380952\n",
    "# criterion='entropy', \n",
    "# max_depth=None, \n",
    "# max_leaf_nodes=None, \n",
    "# min_samples_leaf=10, \n",
    "# min_samples_split=2\n",
    "\n",
    "# AdaBoost:\n",
    "# Precision: 0.414\n",
    "# Recall: 0.206305555556\n",
    "# algorithm='SAMME', \n",
    "# learning_rate=1.2, \n",
    "# n_estimators=10\n",
    "\"\"\""
   ]
  },
  {
   "cell_type": "code",
   "execution_count": null,
   "metadata": {
    "collapsed": false
   },
   "outputs": [],
   "source": [
    "\n",
    "### Task 5: Tune your classifier to achieve better than .3 precision and recall \n",
    "### using our testing script. Check the tester.py script in the final project\n",
    "### folder for details on the evaluation method, especially the test_classifier\n",
    "### function. Because of the small size of the dataset, the script uses\n",
    "### stratified shuffle split cross validation. For more info: \n",
    "### http://scikit-learn.org/stable/modules/generated/sklearn.cross_validation.StratifiedShuffleSplit.html\n",
    "from sklearn.ensemble import AdaBoostClassifier\n",
    "features_train, features_test, labels_train, labels_test = train_test_split(features, labels, random_state=42)\n",
    "clf = AdaBoostClassifier(n_estimators=10,learning_rate=0.5,algorithm='SAMME')\n",
    "clf.fit(features_train,labels_train)\n",
    "clf.predict(features_test)\n",
    "print clf.score(features_list,labels_test)\n",
    "\n",
    "### Task 6: Dump your classifier, dataset, and features_list so anyone can\n",
    "### check your results. You do not need to change anything below, but make sure\n",
    "### that the version of poi_id.py that you submit can be run on its own and\n",
    "### generates the necessary .pkl files for validating your results.\n",
    "\n",
    "dump_classifier_and_data(clf, my_dataset, my_features)"
   ]
  },
  {
   "cell_type": "code",
   "execution_count": null,
   "metadata": {
    "collapsed": true
   },
   "outputs": [],
   "source": []
  }
 ],
 "metadata": {
  "anaconda-cloud": {},
  "kernelspec": {
   "display_name": "Python [conda root]",
   "language": "python",
   "name": "conda-root-py"
  },
  "language_info": {
   "codemirror_mode": {
    "name": "ipython",
    "version": 2
   },
   "file_extension": ".py",
   "mimetype": "text/x-python",
   "name": "python",
   "nbconvert_exporter": "python",
   "pygments_lexer": "ipython2",
   "version": "2.7.12"
  }
 },
 "nbformat": 4,
 "nbformat_minor": 1
}
